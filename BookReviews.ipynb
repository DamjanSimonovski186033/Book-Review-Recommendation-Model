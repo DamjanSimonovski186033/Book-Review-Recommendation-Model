{
 "cells": [
  {
   "cell_type": "markdown",
   "id": "4deaa3af-a653-4225-8bf5-eae373b18aeb",
   "metadata": {},
   "source": [
    "# 🧪 Setting the Research Goal\n",
    "---\n",
    "Creating a model for book recommendations."
   ]
  },
  {
   "cell_type": "markdown",
   "id": "e6fdeb31-2048-4870-9978-e76d5d86aeaf",
   "metadata": {},
   "source": [
    "# 📥 Retrieving Data\n",
    "---\n",
    "The data was obtained from Kaggle<br>\n",
    "Link for the dataset:\n",
    "&nbsp;https://www.kaggle.com/datasets/ruchi798/bookcrossing-dataset"
   ]
  },
  {
   "cell_type": "code",
   "execution_count": 3,
   "id": "566f9812-2f85-4bbd-9169-2260c62bfd1c",
   "metadata": {},
   "outputs": [],
   "source": [
    "import os\n",
    "import pandas as pd\n",
    "import seaborn as sns\n",
    "import matplotlib.pyplot as plt\n",
    "from sklearn.preprocessing import LabelEncoder\n",
    "import numpy as np"
   ]
  },
  {
   "cell_type": "markdown",
   "id": "4819247d-3157-4634-9712-a9864085d345",
   "metadata": {},
   "source": [
    "Importing the datasets"
   ]
  },
  {
   "cell_type": "code",
   "execution_count": 5,
   "id": "913309f5-fd5d-4d32-a624-12ff3c569b4a",
   "metadata": {},
   "outputs": [],
   "source": [
    "df_books = pd.read_csv(\"archive/Book reviews/Book reviews/BX_Books.csv\", encoding=\"ISO-8859-1\", delimiter=\";\")\n",
    "df_books_rating = pd.read_csv(\"archive/Book reviews/Book reviews/BX-Book-Ratings.csv\", encoding=\"ISO-8859-1\", delimiter=\";\")\n",
    "df_users = pd.read_csv(\"archive/Book reviews/Book reviews/BX-Users.csv\", encoding=\"ISO-8859-1\", delimiter=\";\")"
   ]
  },
  {
   "cell_type": "markdown",
   "id": "5e9ee421-2858-4320-b017-64b1ab23e00c",
   "metadata": {},
   "source": [
    "Based on initial overiview of the data (displaying the first few records of the dataset), we are removing 'Image-URL-S', 'Image-URL-M' and 'Image-URL-L', because they are redundant."
   ]
  },
  {
   "cell_type": "markdown",
   "id": "97143ef9-c6dc-4807-abae-fd5001287cd1",
   "metadata": {},
   "source": [
    "# 🛠 Data Preparation & 🕵️ Data Exploration\n",
    "---"
   ]
  },
  {
   "cell_type": "code",
   "execution_count": 8,
   "id": "5af8f4dc-a126-4644-ad55-5dcaae272223",
   "metadata": {},
   "outputs": [],
   "source": [
    "df_books.drop(columns=['Image-URL-S', 'Image-URL-M', 'Image-URL-L'], inplace=True)"
   ]
  },
  {
   "cell_type": "code",
   "execution_count": 9,
   "id": "721a0427-c7b2-4e32-9ccd-de025bcfb5ab",
   "metadata": {},
   "outputs": [
    {
     "data": {
      "text/html": [
       "<div>\n",
       "<style scoped>\n",
       "    .dataframe tbody tr th:only-of-type {\n",
       "        vertical-align: middle;\n",
       "    }\n",
       "\n",
       "    .dataframe tbody tr th {\n",
       "        vertical-align: top;\n",
       "    }\n",
       "\n",
       "    .dataframe thead th {\n",
       "        text-align: right;\n",
       "    }\n",
       "</style>\n",
       "<table border=\"1\" class=\"dataframe\">\n",
       "  <thead>\n",
       "    <tr style=\"text-align: right;\">\n",
       "      <th></th>\n",
       "      <th>User-ID</th>\n",
       "      <th>ISBN</th>\n",
       "      <th>Book-Rating</th>\n",
       "    </tr>\n",
       "  </thead>\n",
       "  <tbody>\n",
       "    <tr>\n",
       "      <th>0</th>\n",
       "      <td>276725</td>\n",
       "      <td>034545104X</td>\n",
       "      <td>0</td>\n",
       "    </tr>\n",
       "    <tr>\n",
       "      <th>1</th>\n",
       "      <td>276726</td>\n",
       "      <td>0155061224</td>\n",
       "      <td>5</td>\n",
       "    </tr>\n",
       "    <tr>\n",
       "      <th>2</th>\n",
       "      <td>276727</td>\n",
       "      <td>0446520802</td>\n",
       "      <td>0</td>\n",
       "    </tr>\n",
       "    <tr>\n",
       "      <th>3</th>\n",
       "      <td>276729</td>\n",
       "      <td>052165615X</td>\n",
       "      <td>3</td>\n",
       "    </tr>\n",
       "    <tr>\n",
       "      <th>4</th>\n",
       "      <td>276729</td>\n",
       "      <td>0521795028</td>\n",
       "      <td>6</td>\n",
       "    </tr>\n",
       "  </tbody>\n",
       "</table>\n",
       "</div>"
      ],
      "text/plain": [
       "   User-ID        ISBN  Book-Rating\n",
       "0   276725  034545104X            0\n",
       "1   276726  0155061224            5\n",
       "2   276727  0446520802            0\n",
       "3   276729  052165615X            3\n",
       "4   276729  0521795028            6"
      ]
     },
     "execution_count": 9,
     "metadata": {},
     "output_type": "execute_result"
    }
   ],
   "source": [
    "df_books_rating.head()"
   ]
  },
  {
   "cell_type": "code",
   "execution_count": 10,
   "id": "1fb46eaf-7353-45fb-a861-57e2cdaa8516",
   "metadata": {},
   "outputs": [
    {
     "data": {
      "text/html": [
       "<div>\n",
       "<style scoped>\n",
       "    .dataframe tbody tr th:only-of-type {\n",
       "        vertical-align: middle;\n",
       "    }\n",
       "\n",
       "    .dataframe tbody tr th {\n",
       "        vertical-align: top;\n",
       "    }\n",
       "\n",
       "    .dataframe thead th {\n",
       "        text-align: right;\n",
       "    }\n",
       "</style>\n",
       "<table border=\"1\" class=\"dataframe\">\n",
       "  <thead>\n",
       "    <tr style=\"text-align: right;\">\n",
       "      <th></th>\n",
       "      <th>User-ID</th>\n",
       "      <th>Location</th>\n",
       "      <th>Age</th>\n",
       "    </tr>\n",
       "  </thead>\n",
       "  <tbody>\n",
       "    <tr>\n",
       "      <th>0</th>\n",
       "      <td>1</td>\n",
       "      <td>nyc, new york, usa</td>\n",
       "      <td>NaN</td>\n",
       "    </tr>\n",
       "    <tr>\n",
       "      <th>1</th>\n",
       "      <td>2</td>\n",
       "      <td>stockton, california, usa</td>\n",
       "      <td>18.0</td>\n",
       "    </tr>\n",
       "    <tr>\n",
       "      <th>2</th>\n",
       "      <td>3</td>\n",
       "      <td>moscow, yukon territory, russia</td>\n",
       "      <td>NaN</td>\n",
       "    </tr>\n",
       "    <tr>\n",
       "      <th>3</th>\n",
       "      <td>4</td>\n",
       "      <td>porto, v.n.gaia, portugal</td>\n",
       "      <td>17.0</td>\n",
       "    </tr>\n",
       "    <tr>\n",
       "      <th>4</th>\n",
       "      <td>5</td>\n",
       "      <td>farnborough, hants, united kingdom</td>\n",
       "      <td>NaN</td>\n",
       "    </tr>\n",
       "  </tbody>\n",
       "</table>\n",
       "</div>"
      ],
      "text/plain": [
       "   User-ID                            Location   Age\n",
       "0        1                  nyc, new york, usa   NaN\n",
       "1        2           stockton, california, usa  18.0\n",
       "2        3     moscow, yukon territory, russia   NaN\n",
       "3        4           porto, v.n.gaia, portugal  17.0\n",
       "4        5  farnborough, hants, united kingdom   NaN"
      ]
     },
     "execution_count": 10,
     "metadata": {},
     "output_type": "execute_result"
    }
   ],
   "source": [
    "df_users.head()"
   ]
  },
  {
   "cell_type": "code",
   "execution_count": 11,
   "id": "73e95114-2bfb-4383-9d6c-124e8a276092",
   "metadata": {},
   "outputs": [
    {
     "data": {
      "text/plain": [
       "1149780"
      ]
     },
     "execution_count": 11,
     "metadata": {},
     "output_type": "execute_result"
    }
   ],
   "source": [
    "df_books_rating.shape[0]"
   ]
  },
  {
   "cell_type": "markdown",
   "id": "ab87910a-5c23-4499-b5ba-0434a465c6b4",
   "metadata": {},
   "source": [
    "Joining the 'User' and 'Book-Rating' datasets on 'User-ID' as the leading column, and then using 'ISBN' to join the 'Books' dataset to the already merged one."
   ]
  },
  {
   "cell_type": "code",
   "execution_count": 13,
   "id": "2b9a63a9-a3ec-4c47-bf44-305ad598f350",
   "metadata": {},
   "outputs": [
    {
     "data": {
      "text/html": [
       "<div>\n",
       "<style scoped>\n",
       "    .dataframe tbody tr th:only-of-type {\n",
       "        vertical-align: middle;\n",
       "    }\n",
       "\n",
       "    .dataframe tbody tr th {\n",
       "        vertical-align: top;\n",
       "    }\n",
       "\n",
       "    .dataframe thead th {\n",
       "        text-align: right;\n",
       "    }\n",
       "</style>\n",
       "<table border=\"1\" class=\"dataframe\">\n",
       "  <thead>\n",
       "    <tr style=\"text-align: right;\">\n",
       "      <th></th>\n",
       "      <th>User-ID</th>\n",
       "      <th>Location</th>\n",
       "      <th>Age</th>\n",
       "      <th>ISBN</th>\n",
       "      <th>Book-Rating</th>\n",
       "    </tr>\n",
       "  </thead>\n",
       "  <tbody>\n",
       "    <tr>\n",
       "      <th>0</th>\n",
       "      <td>2</td>\n",
       "      <td>stockton, california, usa</td>\n",
       "      <td>18.0</td>\n",
       "      <td>0195153448</td>\n",
       "      <td>0</td>\n",
       "    </tr>\n",
       "    <tr>\n",
       "      <th>1</th>\n",
       "      <td>7</td>\n",
       "      <td>washington, dc, usa</td>\n",
       "      <td>NaN</td>\n",
       "      <td>034542252</td>\n",
       "      <td>0</td>\n",
       "    </tr>\n",
       "    <tr>\n",
       "      <th>2</th>\n",
       "      <td>8</td>\n",
       "      <td>timmins, ontario, canada</td>\n",
       "      <td>NaN</td>\n",
       "      <td>0002005018</td>\n",
       "      <td>5</td>\n",
       "    </tr>\n",
       "    <tr>\n",
       "      <th>3</th>\n",
       "      <td>8</td>\n",
       "      <td>timmins, ontario, canada</td>\n",
       "      <td>NaN</td>\n",
       "      <td>0060973129</td>\n",
       "      <td>0</td>\n",
       "    </tr>\n",
       "    <tr>\n",
       "      <th>4</th>\n",
       "      <td>8</td>\n",
       "      <td>timmins, ontario, canada</td>\n",
       "      <td>NaN</td>\n",
       "      <td>0374157065</td>\n",
       "      <td>0</td>\n",
       "    </tr>\n",
       "    <tr>\n",
       "      <th>...</th>\n",
       "      <td>...</td>\n",
       "      <td>...</td>\n",
       "      <td>...</td>\n",
       "      <td>...</td>\n",
       "      <td>...</td>\n",
       "    </tr>\n",
       "    <tr>\n",
       "      <th>1149775</th>\n",
       "      <td>278854</td>\n",
       "      <td>portland, oregon, usa</td>\n",
       "      <td>NaN</td>\n",
       "      <td>0425163393</td>\n",
       "      <td>7</td>\n",
       "    </tr>\n",
       "    <tr>\n",
       "      <th>1149776</th>\n",
       "      <td>278854</td>\n",
       "      <td>portland, oregon, usa</td>\n",
       "      <td>NaN</td>\n",
       "      <td>0515087122</td>\n",
       "      <td>0</td>\n",
       "    </tr>\n",
       "    <tr>\n",
       "      <th>1149777</th>\n",
       "      <td>278854</td>\n",
       "      <td>portland, oregon, usa</td>\n",
       "      <td>NaN</td>\n",
       "      <td>0553275739</td>\n",
       "      <td>6</td>\n",
       "    </tr>\n",
       "    <tr>\n",
       "      <th>1149778</th>\n",
       "      <td>278854</td>\n",
       "      <td>portland, oregon, usa</td>\n",
       "      <td>NaN</td>\n",
       "      <td>0553578596</td>\n",
       "      <td>0</td>\n",
       "    </tr>\n",
       "    <tr>\n",
       "      <th>1149779</th>\n",
       "      <td>278854</td>\n",
       "      <td>portland, oregon, usa</td>\n",
       "      <td>NaN</td>\n",
       "      <td>0553579606</td>\n",
       "      <td>8</td>\n",
       "    </tr>\n",
       "  </tbody>\n",
       "</table>\n",
       "<p>1149780 rows × 5 columns</p>\n",
       "</div>"
      ],
      "text/plain": [
       "         User-ID                   Location   Age        ISBN  Book-Rating\n",
       "0              2  stockton, california, usa  18.0  0195153448            0\n",
       "1              7        washington, dc, usa   NaN   034542252            0\n",
       "2              8   timmins, ontario, canada   NaN  0002005018            5\n",
       "3              8   timmins, ontario, canada   NaN  0060973129            0\n",
       "4              8   timmins, ontario, canada   NaN  0374157065            0\n",
       "...          ...                        ...   ...         ...          ...\n",
       "1149775   278854      portland, oregon, usa   NaN  0425163393            7\n",
       "1149776   278854      portland, oregon, usa   NaN  0515087122            0\n",
       "1149777   278854      portland, oregon, usa   NaN  0553275739            6\n",
       "1149778   278854      portland, oregon, usa   NaN  0553578596            0\n",
       "1149779   278854      portland, oregon, usa   NaN  0553579606            8\n",
       "\n",
       "[1149780 rows x 5 columns]"
      ]
     },
     "execution_count": 13,
     "metadata": {},
     "output_type": "execute_result"
    }
   ],
   "source": [
    "merged_df = df_users.merge(df_books_rating, on='User-ID', how='inner')\n",
    "merged_df"
   ]
  },
  {
   "cell_type": "code",
   "execution_count": 14,
   "id": "925051a0-ae25-4c36-9723-a85ed9b5ad4d",
   "metadata": {},
   "outputs": [
    {
     "data": {
      "text/html": [
       "<div>\n",
       "<style scoped>\n",
       "    .dataframe tbody tr th:only-of-type {\n",
       "        vertical-align: middle;\n",
       "    }\n",
       "\n",
       "    .dataframe tbody tr th {\n",
       "        vertical-align: top;\n",
       "    }\n",
       "\n",
       "    .dataframe thead th {\n",
       "        text-align: right;\n",
       "    }\n",
       "</style>\n",
       "<table border=\"1\" class=\"dataframe\">\n",
       "  <thead>\n",
       "    <tr style=\"text-align: right;\">\n",
       "      <th></th>\n",
       "      <th>User-ID</th>\n",
       "      <th>Location</th>\n",
       "      <th>Age</th>\n",
       "      <th>ISBN</th>\n",
       "      <th>Book-Rating</th>\n",
       "      <th>Book-Title</th>\n",
       "      <th>Book-Author</th>\n",
       "      <th>Year-Of-Publication</th>\n",
       "      <th>Publisher</th>\n",
       "    </tr>\n",
       "  </thead>\n",
       "  <tbody>\n",
       "    <tr>\n",
       "      <th>0</th>\n",
       "      <td>2</td>\n",
       "      <td>stockton, california, usa</td>\n",
       "      <td>18.0</td>\n",
       "      <td>0195153448</td>\n",
       "      <td>0</td>\n",
       "      <td>Classical Mythology</td>\n",
       "      <td>Mark P. O. Morford</td>\n",
       "      <td>2002</td>\n",
       "      <td>Oxford University Press</td>\n",
       "    </tr>\n",
       "    <tr>\n",
       "      <th>1</th>\n",
       "      <td>8</td>\n",
       "      <td>timmins, ontario, canada</td>\n",
       "      <td>NaN</td>\n",
       "      <td>0002005018</td>\n",
       "      <td>5</td>\n",
       "      <td>Clara Callan</td>\n",
       "      <td>Richard Bruce Wright</td>\n",
       "      <td>2001</td>\n",
       "      <td>HarperFlamingo Canada</td>\n",
       "    </tr>\n",
       "    <tr>\n",
       "      <th>2</th>\n",
       "      <td>8</td>\n",
       "      <td>timmins, ontario, canada</td>\n",
       "      <td>NaN</td>\n",
       "      <td>0060973129</td>\n",
       "      <td>0</td>\n",
       "      <td>Decision in Normandy</td>\n",
       "      <td>Carlo D'Este</td>\n",
       "      <td>1991</td>\n",
       "      <td>HarperPerennial</td>\n",
       "    </tr>\n",
       "    <tr>\n",
       "      <th>3</th>\n",
       "      <td>8</td>\n",
       "      <td>timmins, ontario, canada</td>\n",
       "      <td>NaN</td>\n",
       "      <td>0374157065</td>\n",
       "      <td>0</td>\n",
       "      <td>Flu: The Story of the Great Influenza Pandemic...</td>\n",
       "      <td>Gina Bari Kolata</td>\n",
       "      <td>1999</td>\n",
       "      <td>Farrar Straus Giroux</td>\n",
       "    </tr>\n",
       "    <tr>\n",
       "      <th>4</th>\n",
       "      <td>8</td>\n",
       "      <td>timmins, ontario, canada</td>\n",
       "      <td>NaN</td>\n",
       "      <td>0393045218</td>\n",
       "      <td>0</td>\n",
       "      <td>The Mummies of Urumchi</td>\n",
       "      <td>E. J. W. Barber</td>\n",
       "      <td>1999</td>\n",
       "      <td>W. W. Norton &amp; Company</td>\n",
       "    </tr>\n",
       "    <tr>\n",
       "      <th>...</th>\n",
       "      <td>...</td>\n",
       "      <td>...</td>\n",
       "      <td>...</td>\n",
       "      <td>...</td>\n",
       "      <td>...</td>\n",
       "      <td>...</td>\n",
       "      <td>...</td>\n",
       "      <td>...</td>\n",
       "      <td>...</td>\n",
       "    </tr>\n",
       "    <tr>\n",
       "      <th>1031170</th>\n",
       "      <td>278854</td>\n",
       "      <td>portland, oregon, usa</td>\n",
       "      <td>NaN</td>\n",
       "      <td>0425163393</td>\n",
       "      <td>7</td>\n",
       "      <td>Kat Scratch Fever (Kat Colorado Mysteries)</td>\n",
       "      <td>Karen Kijewski</td>\n",
       "      <td>1998</td>\n",
       "      <td>Berkley Publishing Group</td>\n",
       "    </tr>\n",
       "    <tr>\n",
       "      <th>1031171</th>\n",
       "      <td>278854</td>\n",
       "      <td>portland, oregon, usa</td>\n",
       "      <td>NaN</td>\n",
       "      <td>0515087122</td>\n",
       "      <td>0</td>\n",
       "      <td>The Cat Who Ate Danish Modern (Cat Who... (Pap...</td>\n",
       "      <td>Lilian Jackson Braun</td>\n",
       "      <td>1990</td>\n",
       "      <td>Jove Books</td>\n",
       "    </tr>\n",
       "    <tr>\n",
       "      <th>1031172</th>\n",
       "      <td>278854</td>\n",
       "      <td>portland, oregon, usa</td>\n",
       "      <td>NaN</td>\n",
       "      <td>0553275739</td>\n",
       "      <td>6</td>\n",
       "      <td>In Her Day</td>\n",
       "      <td>Rita Mae Brown</td>\n",
       "      <td>1988</td>\n",
       "      <td>Bantam Books</td>\n",
       "    </tr>\n",
       "    <tr>\n",
       "      <th>1031173</th>\n",
       "      <td>278854</td>\n",
       "      <td>portland, oregon, usa</td>\n",
       "      <td>NaN</td>\n",
       "      <td>0553578596</td>\n",
       "      <td>0</td>\n",
       "      <td>Wicked Fix : A Home Repair is Homicide Mystery...</td>\n",
       "      <td>SARAH GRAVES</td>\n",
       "      <td>2000</td>\n",
       "      <td>Bantam</td>\n",
       "    </tr>\n",
       "    <tr>\n",
       "      <th>1031174</th>\n",
       "      <td>278854</td>\n",
       "      <td>portland, oregon, usa</td>\n",
       "      <td>NaN</td>\n",
       "      <td>0553579606</td>\n",
       "      <td>8</td>\n",
       "      <td>Ashes to Ashes</td>\n",
       "      <td>TAMI HOAG</td>\n",
       "      <td>2000</td>\n",
       "      <td>Bantam</td>\n",
       "    </tr>\n",
       "  </tbody>\n",
       "</table>\n",
       "<p>1031175 rows × 9 columns</p>\n",
       "</div>"
      ],
      "text/plain": [
       "         User-ID                   Location   Age        ISBN  Book-Rating  \\\n",
       "0              2  stockton, california, usa  18.0  0195153448            0   \n",
       "1              8   timmins, ontario, canada   NaN  0002005018            5   \n",
       "2              8   timmins, ontario, canada   NaN  0060973129            0   \n",
       "3              8   timmins, ontario, canada   NaN  0374157065            0   \n",
       "4              8   timmins, ontario, canada   NaN  0393045218            0   \n",
       "...          ...                        ...   ...         ...          ...   \n",
       "1031170   278854      portland, oregon, usa   NaN  0425163393            7   \n",
       "1031171   278854      portland, oregon, usa   NaN  0515087122            0   \n",
       "1031172   278854      portland, oregon, usa   NaN  0553275739            6   \n",
       "1031173   278854      portland, oregon, usa   NaN  0553578596            0   \n",
       "1031174   278854      portland, oregon, usa   NaN  0553579606            8   \n",
       "\n",
       "                                                Book-Title  \\\n",
       "0                                      Classical Mythology   \n",
       "1                                             Clara Callan   \n",
       "2                                     Decision in Normandy   \n",
       "3        Flu: The Story of the Great Influenza Pandemic...   \n",
       "4                                   The Mummies of Urumchi   \n",
       "...                                                    ...   \n",
       "1031170         Kat Scratch Fever (Kat Colorado Mysteries)   \n",
       "1031171  The Cat Who Ate Danish Modern (Cat Who... (Pap...   \n",
       "1031172                                         In Her Day   \n",
       "1031173  Wicked Fix : A Home Repair is Homicide Mystery...   \n",
       "1031174                                     Ashes to Ashes   \n",
       "\n",
       "                  Book-Author  Year-Of-Publication                 Publisher  \n",
       "0          Mark P. O. Morford                 2002   Oxford University Press  \n",
       "1        Richard Bruce Wright                 2001     HarperFlamingo Canada  \n",
       "2                Carlo D'Este                 1991           HarperPerennial  \n",
       "3            Gina Bari Kolata                 1999      Farrar Straus Giroux  \n",
       "4             E. J. W. Barber                 1999    W. W. Norton & Company  \n",
       "...                       ...                  ...                       ...  \n",
       "1031170        Karen Kijewski                 1998  Berkley Publishing Group  \n",
       "1031171  Lilian Jackson Braun                 1990                Jove Books  \n",
       "1031172        Rita Mae Brown                 1988              Bantam Books  \n",
       "1031173          SARAH GRAVES                 2000                    Bantam  \n",
       "1031174             TAMI HOAG                 2000                    Bantam  \n",
       "\n",
       "[1031175 rows x 9 columns]"
      ]
     },
     "execution_count": 14,
     "metadata": {},
     "output_type": "execute_result"
    }
   ],
   "source": [
    "df = merged_df.merge(df_books, on='ISBN', how='inner')\n",
    "df"
   ]
  },
  {
   "cell_type": "markdown",
   "id": "af613819-d4e3-46a0-8bba-e7e0fe1395c7",
   "metadata": {},
   "source": [
    "Chechking to see for NaN values. In the case for column 'Book-Author' and 'Publisher' we are going to drop the rows with NaN values, because there are only 2 missing values in each, and also because in these two columns the records are non-numeric and the this also makes the imputation difficult."
   ]
  },
  {
   "cell_type": "code",
   "execution_count": 16,
   "id": "62ecf3eb-ab44-46c1-bd19-b287ca59596e",
   "metadata": {},
   "outputs": [
    {
     "data": {
      "text/plain": [
       "User-ID                     0\n",
       "Location                    0\n",
       "Age                    277845\n",
       "ISBN                        0\n",
       "Book-Rating                 0\n",
       "Book-Title                  0\n",
       "Book-Author                 2\n",
       "Year-Of-Publication         0\n",
       "Publisher                   2\n",
       "dtype: int64"
      ]
     },
     "execution_count": 16,
     "metadata": {},
     "output_type": "execute_result"
    }
   ],
   "source": [
    "df.isnull().sum()"
   ]
  },
  {
   "cell_type": "code",
   "execution_count": 17,
   "id": "9dccec7a-0014-4566-b93c-defcf68afb0b",
   "metadata": {},
   "outputs": [
    {
     "data": {
      "text/plain": [
       "User-ID                     0\n",
       "Location                    0\n",
       "Age                    277845\n",
       "ISBN                        0\n",
       "Book-Rating                 0\n",
       "Book-Title                  0\n",
       "Book-Author                 0\n",
       "Year-Of-Publication         0\n",
       "Publisher                   0\n",
       "dtype: int64"
      ]
     },
     "execution_count": 17,
     "metadata": {},
     "output_type": "execute_result"
    }
   ],
   "source": [
    "df.dropna(subset=['Book-Author', 'Publisher'], inplace=True)\n",
    "df.isnull().sum()"
   ]
  },
  {
   "cell_type": "markdown",
   "id": "746f58d5-2695-4cc1-9c6c-1003528b471e",
   "metadata": {},
   "source": [
    "We then use summary statistics for a quick overview of the data in the 'Age' column. As we can see that there are a few issues with the records in this column, the 'min' age is 0 (records which are invalid) and the 'max' is 244 (records that are outliers), whcih we know that this is not possible. We can also tell that the data has a 'Normal Distribution' based on the mean value in corellation with the median (37.4 ≈ 35)."
   ]
  },
  {
   "cell_type": "code",
   "execution_count": 19,
   "id": "316e2841-a416-41d7-be9a-13c42bb1d3fa",
   "metadata": {},
   "outputs": [
    {
     "name": "stdout",
     "output_type": "stream",
     "text": [
      "count    753326.000000\n",
      "mean         37.397707\n",
      "std          14.098197\n",
      "min           0.000000\n",
      "25%          28.000000\n",
      "50%          35.000000\n",
      "75%          45.000000\n",
      "max         244.000000\n",
      "Name: Age, dtype: float64\n"
     ]
    }
   ],
   "source": [
    "print(df['Age'].describe())"
   ]
  },
  {
   "cell_type": "markdown",
   "id": "97a55fd7-5351-4250-9ced-850665fabcf3",
   "metadata": {},
   "source": [
    "We will check to see if there are any inconsistencies in the user dataset for the 'Age' feature."
   ]
  },
  {
   "cell_type": "code",
   "execution_count": 95,
   "id": "a4a2b89b-97cd-4997-9c56-5cdb11c54415",
   "metadata": {},
   "outputs": [
    {
     "name": "stdout",
     "output_type": "stream",
     "text": [
      "Number of users with inconsistent age values: 0\n",
      "Series([], Name: Age, dtype: int64)\n"
     ]
    }
   ],
   "source": [
    "age_check = df_users.groupby('User-ID')['Age'].nunique()\n",
    "inconsistent_users = age_check[age_check > 1]\n",
    "\n",
    "print(f\"Number of users with inconsistent age values: {len(inconsistent_users)}\")\n",
    "print(inconsistent_users.head(20))"
   ]
  },
  {
   "cell_type": "markdown",
   "id": "df981095-c1f0-4254-9fdb-05285407381b",
   "metadata": {},
   "source": [
    "We will use a box-plot to see the outliers. And as we can see in the graph there are alot of oultiers (greater than 100)."
   ]
  },
  {
   "cell_type": "code",
   "execution_count": 21,
   "id": "4b0240f2-8240-484a-b3e2-280b074dd091",
   "metadata": {},
   "outputs": [
    {
     "data": {
      "image/png": "[encoded data removed]",
      "text/plain": [
       "<Figure size 640x480 with 1 Axes>"
      ]
     },
     "metadata": {},
     "output_type": "display_data"
    }
   ],
   "source": [
    "sns.boxplot(x=df['Age'])\n",
    "plt.title('Age Boxplot')\n",
    "plt.show()"
   ]
  },
  {
   "cell_type": "markdown",
   "id": "2231b75a-cad8-4115-b48c-0e658a60c128",
   "metadata": {},
   "source": [
    "The box-plot confirmed extreme outliers, so we will handle this by first findinf the IQR (Interquartile Range)"
   ]
  },
  {
   "cell_type": "code",
   "execution_count": 23,
   "id": "48d8d28d-7f78-47d5-a6bb-8d71d04acd25",
   "metadata": {},
   "outputs": [
    {
     "name": "stdout",
     "output_type": "stream",
     "text": [
      "Lower Bound: 2.5, Upper Bound: 70.5\n"
     ]
    }
   ],
   "source": [
    "Q1 = df['Age'].quantile(0.25)\n",
    "Q3 = df['Age'].quantile(0.75)\n",
    "IQR = Q3 - Q1\n",
    "\n",
    "lower_bound = Q1 - 1.5 * IQR\n",
    "upper_bound = Q3 + 1.5 * IQR\n",
    "\n",
    "print(f\"Lower Bound: {lower_bound}, Upper Bound: {upper_bound}\")"
   ]
  },
  {
   "cell_type": "markdown",
   "id": "717d737d-b1a4-4276-add4-6de76e077e97",
   "metadata": {},
   "source": [
    "The upper bound is a reasonable cutoff, but the lower bound is not reasonable, beacause it is not possible for a 2 year old to read a book and leave a review. For this reason, my thought process was to use the upper bound cutoff and use either KNN or Linear Regression to impute the values instead of the lower bound cutoff. For both KNN and Linear Regression we need other features to be able to impute, so we first need to see the correlations between 'Age' and other features in the dataset."
   ]
  },
  {
   "cell_type": "code",
   "execution_count": 25,
   "id": "71ffac4a-d25c-4233-90d9-844da5c9bc10",
   "metadata": {},
   "outputs": [
    {
     "name": "stdout",
     "output_type": "stream",
     "text": [
      "(14220, 5)\n",
      "     User-ID  Median_Age  Avg_Rating  Rating_Std  Num_Reviews\n",
      "0          8         NaN    5.571429    0.786796            7\n",
      "34        99        42.0    7.625000    2.326094            8\n",
      "39       114        57.0    8.125000    1.552648            8\n",
      "45       160        20.0    7.333333    0.816497            6\n",
      "52       183        27.0    8.000000    1.054093           91\n",
      "64       232        16.0    6.200000    1.483240            5\n",
      "66       242        37.0    8.545455    1.582935           33\n",
      "67       243         NaN    7.277778    1.708303           18\n",
      "68       244         NaN    7.625000    1.187735            8\n",
      "71       254        24.0    7.775862    1.499042           58\n",
      "81       300         NaN    5.500000    1.414214            8\n",
      "101      383         NaN    7.500000    2.672612            8\n",
      "102      387        17.0    7.200000    3.271085            5\n",
      "103      388        35.0    7.294118    2.023756           17\n",
      "104      392        44.0    6.809524    1.806074           21\n",
      "107      408        17.0    7.600000    1.140175            5\n",
      "109      424        29.0    6.500000    1.048809            6\n",
      "117      446         NaN    8.000000    2.412091           12\n",
      "120      460         NaN    7.200000    2.588436            5\n",
      "122      472         NaN    7.833333    2.228602            6\n"
     ]
    }
   ],
   "source": [
    "filtered_df = merged_df[merged_df['Book-Rating'] > 0]\n",
    "\n",
    "user_df = filtered_df.groupby('User-ID', as_index=False).agg({\n",
    "    'Age': lambda x: x.median() if len(x.dropna()) > 0 else np.nan,\n",
    "    'Book-Rating': ['mean', 'std', 'count'],\n",
    "})\n",
    "\n",
    "user_df.columns = ['User-ID', 'Median_Age', 'Avg_Rating', 'Rating_Std', 'Num_Reviews']\n",
    "\n",
    "filtered_users = user_df[user_df['Num_Reviews'] >= 5]\n",
    "\n",
    "print(filtered_users.shape)\n",
    "print(filtered_users.head(20))\n"
   ]
  },
  {
   "cell_type": "code",
   "execution_count": 26,
   "id": "8dd23594-79ee-41b3-8b43-a33e0e7c74d4",
   "metadata": {},
   "outputs": [
    {
     "data": {
      "text/plain": [
       "14220"
      ]
     },
     "execution_count": 26,
     "metadata": {},
     "output_type": "execute_result"
    }
   ],
   "source": [
    "filtered_users.shape[0]"
   ]
  },
  {
   "cell_type": "code",
   "execution_count": 27,
   "id": "6d525f9d-d69d-46a6-a73d-a6d3e2462db9",
   "metadata": {},
   "outputs": [],
   "source": [
    "merged_df = merged_df.merge(df[['ISBN', 'Book-Author']], on='ISBN', how='left')"
   ]
  },
  {
   "cell_type": "code",
   "execution_count": 28,
   "id": "640e1a73-2c97-45fc-84ef-8b0ac09c9dbc",
   "metadata": {},
   "outputs": [
    {
     "data": {
      "text/html": [
       "<div>\n",
       "<style scoped>\n",
       "    .dataframe tbody tr th:only-of-type {\n",
       "        vertical-align: middle;\n",
       "    }\n",
       "\n",
       "    .dataframe tbody tr th {\n",
       "        vertical-align: top;\n",
       "    }\n",
       "\n",
       "    .dataframe thead th {\n",
       "        text-align: right;\n",
       "    }\n",
       "</style>\n",
       "<table border=\"1\" class=\"dataframe\">\n",
       "  <thead>\n",
       "    <tr style=\"text-align: right;\">\n",
       "      <th></th>\n",
       "      <th>User-ID</th>\n",
       "      <th>Location</th>\n",
       "      <th>Age</th>\n",
       "      <th>ISBN</th>\n",
       "      <th>Book-Rating</th>\n",
       "      <th>Book-Author</th>\n",
       "    </tr>\n",
       "  </thead>\n",
       "  <tbody>\n",
       "    <tr>\n",
       "      <th>0</th>\n",
       "      <td>2</td>\n",
       "      <td>stockton, california, usa</td>\n",
       "      <td>18.0</td>\n",
       "      <td>0195153448</td>\n",
       "      <td>0</td>\n",
       "      <td>Mark P. O. Morford</td>\n",
       "    </tr>\n",
       "    <tr>\n",
       "      <th>1</th>\n",
       "      <td>7</td>\n",
       "      <td>washington, dc, usa</td>\n",
       "      <td>NaN</td>\n",
       "      <td>034542252</td>\n",
       "      <td>0</td>\n",
       "      <td>NaN</td>\n",
       "    </tr>\n",
       "    <tr>\n",
       "      <th>2</th>\n",
       "      <td>8</td>\n",
       "      <td>timmins, ontario, canada</td>\n",
       "      <td>NaN</td>\n",
       "      <td>0002005018</td>\n",
       "      <td>5</td>\n",
       "      <td>Richard Bruce Wright</td>\n",
       "    </tr>\n",
       "    <tr>\n",
       "      <th>3</th>\n",
       "      <td>8</td>\n",
       "      <td>timmins, ontario, canada</td>\n",
       "      <td>NaN</td>\n",
       "      <td>0002005018</td>\n",
       "      <td>5</td>\n",
       "      <td>Richard Bruce Wright</td>\n",
       "    </tr>\n",
       "    <tr>\n",
       "      <th>4</th>\n",
       "      <td>8</td>\n",
       "      <td>timmins, ontario, canada</td>\n",
       "      <td>NaN</td>\n",
       "      <td>0002005018</td>\n",
       "      <td>5</td>\n",
       "      <td>Richard Bruce Wright</td>\n",
       "    </tr>\n",
       "    <tr>\n",
       "      <th>5</th>\n",
       "      <td>8</td>\n",
       "      <td>timmins, ontario, canada</td>\n",
       "      <td>NaN</td>\n",
       "      <td>0002005018</td>\n",
       "      <td>5</td>\n",
       "      <td>Richard Bruce Wright</td>\n",
       "    </tr>\n",
       "    <tr>\n",
       "      <th>6</th>\n",
       "      <td>8</td>\n",
       "      <td>timmins, ontario, canada</td>\n",
       "      <td>NaN</td>\n",
       "      <td>0002005018</td>\n",
       "      <td>5</td>\n",
       "      <td>Richard Bruce Wright</td>\n",
       "    </tr>\n",
       "    <tr>\n",
       "      <th>7</th>\n",
       "      <td>8</td>\n",
       "      <td>timmins, ontario, canada</td>\n",
       "      <td>NaN</td>\n",
       "      <td>0002005018</td>\n",
       "      <td>5</td>\n",
       "      <td>Richard Bruce Wright</td>\n",
       "    </tr>\n",
       "    <tr>\n",
       "      <th>8</th>\n",
       "      <td>8</td>\n",
       "      <td>timmins, ontario, canada</td>\n",
       "      <td>NaN</td>\n",
       "      <td>0002005018</td>\n",
       "      <td>5</td>\n",
       "      <td>Richard Bruce Wright</td>\n",
       "    </tr>\n",
       "    <tr>\n",
       "      <th>9</th>\n",
       "      <td>8</td>\n",
       "      <td>timmins, ontario, canada</td>\n",
       "      <td>NaN</td>\n",
       "      <td>0002005018</td>\n",
       "      <td>5</td>\n",
       "      <td>Richard Bruce Wright</td>\n",
       "    </tr>\n",
       "    <tr>\n",
       "      <th>10</th>\n",
       "      <td>8</td>\n",
       "      <td>timmins, ontario, canada</td>\n",
       "      <td>NaN</td>\n",
       "      <td>0002005018</td>\n",
       "      <td>5</td>\n",
       "      <td>Richard Bruce Wright</td>\n",
       "    </tr>\n",
       "    <tr>\n",
       "      <th>11</th>\n",
       "      <td>8</td>\n",
       "      <td>timmins, ontario, canada</td>\n",
       "      <td>NaN</td>\n",
       "      <td>0002005018</td>\n",
       "      <td>5</td>\n",
       "      <td>Richard Bruce Wright</td>\n",
       "    </tr>\n",
       "    <tr>\n",
       "      <th>12</th>\n",
       "      <td>8</td>\n",
       "      <td>timmins, ontario, canada</td>\n",
       "      <td>NaN</td>\n",
       "      <td>0002005018</td>\n",
       "      <td>5</td>\n",
       "      <td>Richard Bruce Wright</td>\n",
       "    </tr>\n",
       "    <tr>\n",
       "      <th>13</th>\n",
       "      <td>8</td>\n",
       "      <td>timmins, ontario, canada</td>\n",
       "      <td>NaN</td>\n",
       "      <td>0002005018</td>\n",
       "      <td>5</td>\n",
       "      <td>Richard Bruce Wright</td>\n",
       "    </tr>\n",
       "    <tr>\n",
       "      <th>14</th>\n",
       "      <td>8</td>\n",
       "      <td>timmins, ontario, canada</td>\n",
       "      <td>NaN</td>\n",
       "      <td>0002005018</td>\n",
       "      <td>5</td>\n",
       "      <td>Richard Bruce Wright</td>\n",
       "    </tr>\n",
       "    <tr>\n",
       "      <th>15</th>\n",
       "      <td>8</td>\n",
       "      <td>timmins, ontario, canada</td>\n",
       "      <td>NaN</td>\n",
       "      <td>0002005018</td>\n",
       "      <td>5</td>\n",
       "      <td>Richard Bruce Wright</td>\n",
       "    </tr>\n",
       "    <tr>\n",
       "      <th>16</th>\n",
       "      <td>8</td>\n",
       "      <td>timmins, ontario, canada</td>\n",
       "      <td>NaN</td>\n",
       "      <td>0060973129</td>\n",
       "      <td>0</td>\n",
       "      <td>Carlo D'Este</td>\n",
       "    </tr>\n",
       "    <tr>\n",
       "      <th>17</th>\n",
       "      <td>8</td>\n",
       "      <td>timmins, ontario, canada</td>\n",
       "      <td>NaN</td>\n",
       "      <td>0060973129</td>\n",
       "      <td>0</td>\n",
       "      <td>Carlo D'Este</td>\n",
       "    </tr>\n",
       "    <tr>\n",
       "      <th>18</th>\n",
       "      <td>8</td>\n",
       "      <td>timmins, ontario, canada</td>\n",
       "      <td>NaN</td>\n",
       "      <td>0060973129</td>\n",
       "      <td>0</td>\n",
       "      <td>Carlo D'Este</td>\n",
       "    </tr>\n",
       "    <tr>\n",
       "      <th>19</th>\n",
       "      <td>8</td>\n",
       "      <td>timmins, ontario, canada</td>\n",
       "      <td>NaN</td>\n",
       "      <td>0374157065</td>\n",
       "      <td>0</td>\n",
       "      <td>Gina Bari Kolata</td>\n",
       "    </tr>\n",
       "  </tbody>\n",
       "</table>\n",
       "</div>"
      ],
      "text/plain": [
       "    User-ID                   Location   Age        ISBN  Book-Rating  \\\n",
       "0         2  stockton, california, usa  18.0  0195153448            0   \n",
       "1         7        washington, dc, usa   NaN   034542252            0   \n",
       "2         8   timmins, ontario, canada   NaN  0002005018            5   \n",
       "3         8   timmins, ontario, canada   NaN  0002005018            5   \n",
       "4         8   timmins, ontario, canada   NaN  0002005018            5   \n",
       "5         8   timmins, ontario, canada   NaN  0002005018            5   \n",
       "6         8   timmins, ontario, canada   NaN  0002005018            5   \n",
       "7         8   timmins, ontario, canada   NaN  0002005018            5   \n",
       "8         8   timmins, ontario, canada   NaN  0002005018            5   \n",
       "9         8   timmins, ontario, canada   NaN  0002005018            5   \n",
       "10        8   timmins, ontario, canada   NaN  0002005018            5   \n",
       "11        8   timmins, ontario, canada   NaN  0002005018            5   \n",
       "12        8   timmins, ontario, canada   NaN  0002005018            5   \n",
       "13        8   timmins, ontario, canada   NaN  0002005018            5   \n",
       "14        8   timmins, ontario, canada   NaN  0002005018            5   \n",
       "15        8   timmins, ontario, canada   NaN  0002005018            5   \n",
       "16        8   timmins, ontario, canada   NaN  0060973129            0   \n",
       "17        8   timmins, ontario, canada   NaN  0060973129            0   \n",
       "18        8   timmins, ontario, canada   NaN  0060973129            0   \n",
       "19        8   timmins, ontario, canada   NaN  0374157065            0   \n",
       "\n",
       "             Book-Author  \n",
       "0     Mark P. O. Morford  \n",
       "1                    NaN  \n",
       "2   Richard Bruce Wright  \n",
       "3   Richard Bruce Wright  \n",
       "4   Richard Bruce Wright  \n",
       "5   Richard Bruce Wright  \n",
       "6   Richard Bruce Wright  \n",
       "7   Richard Bruce Wright  \n",
       "8   Richard Bruce Wright  \n",
       "9   Richard Bruce Wright  \n",
       "10  Richard Bruce Wright  \n",
       "11  Richard Bruce Wright  \n",
       "12  Richard Bruce Wright  \n",
       "13  Richard Bruce Wright  \n",
       "14  Richard Bruce Wright  \n",
       "15  Richard Bruce Wright  \n",
       "16          Carlo D'Este  \n",
       "17          Carlo D'Este  \n",
       "18          Carlo D'Este  \n",
       "19      Gina Bari Kolata  "
      ]
     },
     "execution_count": 28,
     "metadata": {},
     "output_type": "execute_result"
    }
   ],
   "source": [
    "merged_df.head(20)"
   ]
  },
  {
   "cell_type": "code",
   "execution_count": 29,
   "id": "3c0d7c5b-0689-46bb-83b3-8d669166722f",
   "metadata": {},
   "outputs": [
    {
     "name": "stdout",
     "output_type": "stream",
     "text": [
      "             Median_Age  Num_Reviews  Avg_Rating\n",
      "Median_Age     1.000000     0.009506   -0.008434\n",
      "Num_Reviews    0.009506     1.000000    0.010966\n",
      "Avg_Rating    -0.008434     0.010966    1.000000\n"
     ]
    }
   ],
   "source": [
    "print(user_df[['Median_Age', 'Num_Reviews', 'Avg_Rating']].corr())"
   ]
  },
  {
   "cell_type": "code",
   "execution_count": 30,
   "id": "07b82811-689f-458b-a405-99e36853a45a",
   "metadata": {},
   "outputs": [
    {
     "name": "stdout",
     "output_type": "stream",
     "text": [
      "                Age  Author_ID\n",
      "Age        1.000000  -0.023142\n",
      "Author_ID -0.023142   1.000000\n"
     ]
    }
   ],
   "source": [
    "le = LabelEncoder()\n",
    "merged_df['Author_ID'] = le.fit_transform(merged_df['Book-Author'])\n",
    "\n",
    "print(merged_df[['Age', 'Author_ID']].corr())"
   ]
  },
  {
   "cell_type": "markdown",
   "id": "f21bca0c-287f-4c77-8c70-a085303c60e0",
   "metadata": {},
   "source": [
    "The correlation between 'Age' and other feature columns was not good at all, as we can see above the highest correlation value was -0.023 which is not a strong correlation."
   ]
  },
  {
   "cell_type": "markdown",
   "id": "15a1e66d-b1c3-45e4-bd2e-77bbaec2893d",
   "metadata": {},
   "source": [
    "So, based on the above my next thought process was to check for natural cutoffs based on the frequency distribution. We can observe from the list bellow that the best lower bound cutoff would be 9 and the upper bound cutoff would be 75, because we can see that the number of occurences from starts to pick up at 9 and starts to fall off at 75. "
   ]
  },
  {
   "cell_type": "code",
   "execution_count": 33,
   "id": "a4516329-c591-42bf-a802-3dc9b6223ade",
   "metadata": {},
   "outputs": [
    {
     "name": "stdout",
     "output_type": "stream",
     "text": [
      "Age: 0.0, Count: 561\n",
      "Age: 1.0, Count: 428\n",
      "Age: 2.0, Count: 321\n",
      "Age: 3.0, Count: 143\n",
      "Age: 4.0, Count: 271\n",
      "Age: 5.0, Count: 159\n",
      "Age: 6.0, Count: 14\n",
      "Age: 7.0, Count: 148\n",
      "Age: 8.0, Count: 542\n",
      "Age: 9.0, Count: 2056\n",
      "Age: 10.0, Count: 227\n",
      "Age: 11.0, Count: 513\n",
      "Age: 12.0, Count: 747\n",
      "Age: 13.0, Count: 1243\n",
      "Age: 14.0, Count: 3206\n",
      "Age: 15.0, Count: 3165\n",
      "Age: 16.0, Count: 3299\n",
      "Age: 17.0, Count: 5282\n",
      "Age: 18.0, Count: 8747\n",
      "Age: 19.0, Count: 5247\n",
      "Age: 20.0, Count: 6487\n",
      "Age: 21.0, Count: 10064\n",
      "Age: 22.0, Count: 12101\n",
      "Age: 23.0, Count: 18793\n",
      "Age: 24.0, Count: 18572\n",
      "Age: 25.0, Count: 21768\n",
      "Age: 26.0, Count: 22106\n",
      "Age: 27.0, Count: 22282\n",
      "Age: 28.0, Count: 25967\n",
      "Age: 29.0, Count: 30647\n",
      "Age: 30.0, Count: 27202\n",
      "Age: 31.0, Count: 25965\n",
      "Age: 32.0, Count: 26492\n",
      "Age: 33.0, Count: 32864\n",
      "Age: 34.0, Count: 25893\n",
      "Age: 35.0, Count: 19573\n",
      "Age: 36.0, Count: 26097\n",
      "Age: 37.0, Count: 21119\n",
      "Age: 38.0, Count: 22396\n",
      "Age: 39.0, Count: 17003\n",
      "Age: 40.0, Count: 15521\n",
      "Age: 41.0, Count: 15901\n",
      "Age: 42.0, Count: 10760\n",
      "Age: 43.0, Count: 20612\n",
      "Age: 44.0, Count: 21510\n",
      "Age: 45.0, Count: 11792\n",
      "Age: 46.0, Count: 16345\n",
      "Age: 47.0, Count: 18517\n",
      "Age: 48.0, Count: 7668\n",
      "Age: 49.0, Count: 14345\n",
      "Age: 50.0, Count: 9452\n",
      "Age: 51.0, Count: 14033\n",
      "Age: 52.0, Count: 17636\n",
      "Age: 53.0, Count: 6882\n",
      "Age: 54.0, Count: 10106\n",
      "Age: 55.0, Count: 6029\n",
      "Age: 56.0, Count: 8338\n",
      "Age: 57.0, Count: 8918\n",
      "Age: 58.0, Count: 8850\n",
      "Age: 59.0, Count: 2913\n",
      "Age: 60.0, Count: 3646\n",
      "Age: 61.0, Count: 4202\n",
      "Age: 62.0, Count: 8382\n",
      "Age: 63.0, Count: 3056\n",
      "Age: 64.0, Count: 1077\n",
      "Age: 65.0, Count: 3950\n",
      "Age: 66.0, Count: 1242\n",
      "Age: 67.0, Count: 2801\n",
      "Age: 68.0, Count: 737\n",
      "Age: 69.0, Count: 1225\n",
      "Age: 70.0, Count: 510\n",
      "Age: 71.0, Count: 796\n",
      "Age: 72.0, Count: 456\n",
      "Age: 73.0, Count: 276\n",
      "Age: 74.0, Count: 238\n",
      "Age: 75.0, Count: 204\n",
      "Age: 76.0, Count: 253\n",
      "Age: 77.0, Count: 148\n",
      "Age: 78.0, Count: 125\n",
      "Age: 79.0, Count: 141\n",
      "Age: 80.0, Count: 184\n",
      "Age: 81.0, Count: 237\n",
      "Age: 82.0, Count: 81\n",
      "Age: 83.0, Count: 165\n",
      "Age: 84.0, Count: 35\n",
      "Age: 85.0, Count: 17\n",
      "Age: 86.0, Count: 2\n",
      "Age: 89.0, Count: 2\n",
      "Age: 90.0, Count: 45\n",
      "Age: 92.0, Count: 47\n",
      "Age: 93.0, Count: 34\n",
      "Age: 94.0, Count: 1\n",
      "Age: 95.0, Count: 1\n",
      "Age: 96.0, Count: 13\n",
      "Age: 97.0, Count: 127\n",
      "Age: 98.0, Count: 1\n",
      "Age: 99.0, Count: 5\n",
      "Age: 100.0, Count: 116\n",
      "Age: 101.0, Count: 113\n",
      "Age: 103.0, Count: 475\n",
      "Age: 104.0, Count: 205\n",
      "Age: 105.0, Count: 1\n",
      "Age: 107.0, Count: 3\n",
      "Age: 108.0, Count: 5\n",
      "Age: 109.0, Count: 1\n",
      "Age: 114.0, Count: 2\n",
      "Age: 116.0, Count: 974\n",
      "Age: 118.0, Count: 1\n",
      "Age: 123.0, Count: 1\n",
      "Age: 124.0, Count: 4\n",
      "Age: 127.0, Count: 4\n",
      "Age: 128.0, Count: 8\n",
      "Age: 132.0, Count: 1\n",
      "Age: 133.0, Count: 1\n",
      "Age: 136.0, Count: 97\n",
      "Age: 138.0, Count: 2\n",
      "Age: 140.0, Count: 8\n",
      "Age: 141.0, Count: 26\n",
      "Age: 146.0, Count: 4\n",
      "Age: 147.0, Count: 1\n",
      "Age: 148.0, Count: 99\n",
      "Age: 151.0, Count: 26\n",
      "Age: 152.0, Count: 10\n",
      "Age: 156.0, Count: 1\n",
      "Age: 157.0, Count: 1\n",
      "Age: 168.0, Count: 40\n",
      "Age: 199.0, Count: 7\n",
      "Age: 200.0, Count: 2\n",
      "Age: 201.0, Count: 441\n",
      "Age: 204.0, Count: 93\n",
      "Age: 209.0, Count: 26\n",
      "Age: 212.0, Count: 2\n",
      "Age: 219.0, Count: 4\n",
      "Age: 220.0, Count: 15\n",
      "Age: 223.0, Count: 5\n",
      "Age: 226.0, Count: 1\n",
      "Age: 228.0, Count: 63\n",
      "Age: 229.0, Count: 11\n",
      "Age: 237.0, Count: 3\n",
      "Age: 239.0, Count: 116\n",
      "Age: 244.0, Count: 7\n"
     ]
    }
   ],
   "source": [
    "age_counts = df['Age'].value_counts().sort_index()\n",
    "for age, count in age_counts.items():\n",
    "    print(f\"Age: {age}, Count: {count}\")"
   ]
  },
  {
   "cell_type": "code",
   "execution_count": 34,
   "id": "1204dc96-e5e2-4317-bad5-d89dc7260f51",
   "metadata": {},
   "outputs": [
    {
     "name": "stdout",
     "output_type": "stream",
     "text": [
      "55589042\n"
     ]
    }
   ],
   "source": [
    "print(merged_df.shape[0])"
   ]
  },
  {
   "cell_type": "code",
   "execution_count": null,
   "id": "bfd4f6e4-8745-4210-9949-445524e80457",
   "metadata": {},
   "outputs": [],
   "source": [
    "df['Age'] = df['Age'].apply(lambda x: x if 9 <= x <= 75 else np.nan)\n",
    "\n",
    "print(df['Age'].describe())\n",
    "print(df['Age'].isna().sum())"
   ]
  },
  {
   "cell_type": "code",
   "execution_count": 85,
   "id": "6cbd98cf-356a-43a1-ae7a-c7aca3756f6b",
   "metadata": {},
   "outputs": [
    {
     "name": "stdout",
     "output_type": "stream",
     "text": [
      "(746049, 9)\n"
     ]
    }
   ],
   "source": [
    "df = df.dropna(subset=['Age'])\n",
    "print(df.shape)"
   ]
  },
  {
   "cell_type": "code",
   "execution_count": 87,
   "id": "9aba4383-ec7c-47ed-b7ac-fde489e2c8b0",
   "metadata": {},
   "outputs": [
    {
     "data": {
      "text/plain": [
       "User-ID                0\n",
       "Location               0\n",
       "Age                    0\n",
       "ISBN                   0\n",
       "Book-Rating            0\n",
       "Book-Title             0\n",
       "Book-Author            0\n",
       "Year-Of-Publication    0\n",
       "Publisher              0\n",
       "dtype: int64"
      ]
     },
     "execution_count": 87,
     "metadata": {},
     "output_type": "execute_result"
    }
   ],
   "source": [
    "df.isnull().sum()"
   ]
  },
  {
   "cell_type": "markdown",
   "id": "3f4eeffd-391a-45d1-95e6-f6e06d7a5c48",
   "metadata": {},
   "source": [
    "As we can see now we have dropped 285122 rows. Previously we saw that there were 277845 NaN values in the 'Age' column, and after we did the filtering we can see that there were 7,277 outliers that did not fit in the cutoffs."
   ]
  },
  {
   "cell_type": "markdown",
   "id": "cdd262a1-7f59-4fec-8fb4-4c5f34ff71e4",
   "metadata": {},
   "source": [
    "Next we are going to deal with the missing values in Book-Rating, because 0 is not a valid value."
   ]
  },
  {
   "cell_type": "code",
   "execution_count": null,
   "id": "6ec8ef61-a753-4b44-afbd-61667206fe2f",
   "metadata": {},
   "outputs": [],
   "source": []
  },
  {
   "cell_type": "code",
   "execution_count": 37,
   "id": "5f700015-1865-4bc9-a4a7-24eb906d7e9a",
   "metadata": {},
   "outputs": [
    {
     "data": {
      "text/plain": [
       "10"
      ]
     },
     "execution_count": 37,
     "metadata": {},
     "output_type": "execute_result"
    }
   ],
   "source": [
    "df['Book-Rating'].max()"
   ]
  },
  {
   "cell_type": "code",
   "execution_count": 38,
   "id": "0994bc40-a6b5-4d4f-95a7-c86c927ebc9d",
   "metadata": {},
   "outputs": [
    {
     "data": {
      "text/plain": [
       "1149780"
      ]
     },
     "execution_count": 38,
     "metadata": {},
     "output_type": "execute_result"
    }
   ],
   "source": [
    "len(df_books_rating['Book-Rating'])"
   ]
  },
  {
   "cell_type": "code",
   "execution_count": 39,
   "id": "ba5dcebe-bbe9-400a-a5cb-dc048ba99fc1",
   "metadata": {},
   "outputs": [
    {
     "data": {
      "text/plain": [
       "716109"
      ]
     },
     "execution_count": 39,
     "metadata": {},
     "output_type": "execute_result"
    }
   ],
   "source": [
    "df_books_rating['Book-Rating'].value_counts()[0]"
   ]
  },
  {
   "cell_type": "code",
   "execution_count": 40,
   "id": "5bb3f107-0ba3-40fc-8ad1-160411c664dc",
   "metadata": {},
   "outputs": [
    {
     "data": {
      "text/plain": [
       "278858"
      ]
     },
     "execution_count": 40,
     "metadata": {},
     "output_type": "execute_result"
    }
   ],
   "source": [
    "len(df_users)"
   ]
  },
  {
   "cell_type": "markdown",
   "id": "c9d33cf1-91c5-4aa7-b4e1-c2997ee853c1",
   "metadata": {},
   "source": [
    "# 🏗 Data Modeling\n",
    "---"
   ]
  }
 ],
 "metadata": {
  "kernelspec": {
   "display_name": "Python 3 (ipykernel)",
   "language": "python",
   "name": "python3"
  },
  "language_info": {
   "codemirror_mode": {
    "name": "ipython",
    "version": 3
   },
   "file_extension": ".py",
   "mimetype": "text/x-python",
   "name": "python",
   "nbconvert_exporter": "python",
   "pygments_lexer": "ipython3",
   "version": "3.12.4"
  }
 },
 "nbformat": 4,
 "nbformat_minor": 5
}
